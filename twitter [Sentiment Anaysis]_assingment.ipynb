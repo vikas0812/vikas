{
 "cells": [
  {
   "cell_type": "code",
   "execution_count": 3,
   "metadata": {},
   "outputs": [],
   "source": [
    "import tweepy\n",
    "from textblob import TextBlob"
   ]
  },
  {
   "cell_type": "code",
   "execution_count": 6,
   "metadata": {},
   "outputs": [
    {
     "name": "stdout",
     "output_type": "stream",
     "text": [
      "RT @AlexanderQuon: Vanity Fair has pinned their response to President Donald Trump 👇 https://t.co/ilBEMy3nqL\n",
      "Sentiment(polarity=0.7, subjectivity=0.9)\n",
      "RT @TheRickWilson: Bernie “ Donald Trump must be defeated and I will do everything in my power to make that happen.”\n",
      "\n",
      "Except, of course, le…\n",
      "Sentiment(polarity=0.0, subjectivity=0.0)\n",
      "RT @WalshFreedom: Yes, Sean Hannity is an idiot, and yes, he’s a big bore, but listening to Hannity tells you exactly what Trump is thinkin…\n",
      "Sentiment(polarity=-0.18333333333333335, subjectivity=0.3833333333333333)\n",
      "RT @morethanmySLE: .@RepJeffries \"Donald Trump wants to lecture us when he spent the weekend at his Florida golf resort? Hanging out with t…\n",
      "Sentiment(polarity=0.05, subjectivity=0.1)\n",
      "RT @TimAlberta: What we just witnessed in Michigan’s wealthy suburbs is a five-alarm fire for Donald Trump.\n",
      "\n",
      "Read my deep dive into the num…\n",
      "Sentiment(polarity=0.25, subjectivity=0.7)\n",
      "RT @TheRickWilson: Bernie “ Donald Trump must be defeated and I will do everything in my power to make that happen.”\n",
      "\n",
      "Except, of course, le…\n",
      "Sentiment(polarity=0.0, subjectivity=0.0)\n",
      "RT @lydiadepillis: In other news, Donald Trump bribed tax assessors in the 1980s and 1990s to lower assessments on several Manhattan proper…\n",
      "Sentiment(polarity=-0.0625, subjectivity=0.1875)\n",
      "RT @stevesilberman: Serial sexual abusers who tried to discredit their victims\n",
      "\n",
      "Bill Cosby: 3 to 10 years in prison \n",
      "Harvey Weinstein: 23 y…\n",
      "Sentiment(polarity=0.5, subjectivity=0.9166666666666667)\n",
      "RT @KamalaHarris: Together we can make $15 the national minimum wage.\n",
      "Together we can ensure health care is a right.\n",
      "Together we can tackle…\n",
      "Sentiment(polarity=0.2857142857142857, subjectivity=0.5357142857142857)\n",
      "RT @mmpadellan: Joe Biden just graciously thanked Bernie Sanders and his supporters for their tireless energy and passion, saying \"Together…\n",
      "Sentiment(polarity=0.0, subjectivity=0.0)\n",
      "RT @beermanTom: #Trump leads Biden in key battleground states.\n",
      "You don't know the half of it!\n",
      "Trump support is ALWAYS under-reported.\n",
      " #Tru…\n",
      "Sentiment(polarity=-0.10416666666666666, subjectivity=0.5833333333333334)\n",
      "RT @TheRickWilson: Bernie “ Donald Trump must be defeated and I will do everything in my power to make that happen.”\n",
      "\n",
      "Except, of course, le…\n",
      "Sentiment(polarity=0.0, subjectivity=0.0)\n",
      "RT @JoeBiden: Once we get Donald Trump out of the White House, we have an enormous opportunity to build the future this nation deserves. A…\n",
      "Sentiment(polarity=0.0, subjectivity=0.3416666666666666)\n",
      "RT @Independent: Follow all our live updates on Donald #Trump:\n",
      "\n",
      "- Late night #Trump tweet attacking Elizabeth Warren raises questions about…\n",
      "Sentiment(polarity=-0.05454545454545454, subjectivity=0.4083333333333334)\n",
      "RT @AbdulElSayed: .@BernieSanders understands the enormity of what we fight for: truly, #NotMeUs. \n",
      "\n",
      "He’s not throwing in the towel because…\n",
      "Sentiment(polarity=0.0, subjectivity=0.0)\n"
     ]
    }
   ],
   "source": [
    "\n",
    "CONSUMER_KEY='FXTquJNbgDG2dH81XYVqNZFAb'\n",
    "CONSUMER_SECRET='3y0ALNFzJ8JKyxzFd0ba9FWSUpNSWhPisEIZOB6WCTtcGvP6SO'\n",
    "access_token=\"529590041-qOXLd769cQEUTbXg3iRqCd33pC1K6xoORrGOMJDh\"\n",
    "access_token_secret=\"WlqZJwXFQzf64IuojkbKh1jdT5cnSY8U44pqmz6Sc1d4A\"\n",
    "\n",
    "auth=tweepy.OAuthHandler(CONSUMER_KEY,CONSUMER_SECRET)\n",
    "\n",
    "auth.set_access_token=(access_token,access_token_secret)\n",
    "\n",
    "api=tweepy.API(auth)\n",
    "public_tweets=api.search('Donald Trump')\n",
    "\n",
    "for tweet in public_tweets:\n",
    "    print(tweet.text)\n",
    "    analysis=TextBlob(tweet.text)\n",
    "    print(analysis.sentiment)"
   ]
  },
  {
   "cell_type": "code",
   "execution_count": null,
   "metadata": {},
   "outputs": [],
   "source": []
  }
 ],
 "metadata": {
  "kernelspec": {
   "display_name": "Python 3",
   "language": "python",
   "name": "python3"
  },
  "language_info": {
   "codemirror_mode": {
    "name": "ipython",
    "version": 3
   },
   "file_extension": ".py",
   "mimetype": "text/x-python",
   "name": "python",
   "nbconvert_exporter": "python",
   "pygments_lexer": "ipython3",
   "version": "3.7.4"
  }
 },
 "nbformat": 4,
 "nbformat_minor": 2
}
